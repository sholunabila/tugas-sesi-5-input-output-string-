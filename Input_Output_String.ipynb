{
  "nbformat": 4,
  "nbformat_minor": 0,
  "metadata": {
    "colab": {
      "provenance": []
    },
    "kernelspec": {
      "name": "python3",
      "display_name": "Python 3"
    },
    "language_info": {
      "name": "python"
    }
  },
  "cells": [
    {
      "cell_type": "markdown",
      "source": [
        "#tugas sesi 5\n",
        "\n",
        "Nama      : sholu nabila salam\n",
        "\n",
        "Nik       : 20230040132\n",
        "\n",
        "kelas     : ti23e"
      ],
      "metadata": {
        "id": "U6O7QfRosS_q"
      }
    },
    {
      "cell_type": "markdown",
      "source": [
        "1. Buatlah biodata sederhana dengan menggunakan fungsi input(), dan output variabel dengan fungsi format()."
      ],
      "metadata": {
        "id": "e_vOFNCl1QYs"
      }
    },
    {
      "cell_type": "code",
      "source": [
        "# Input data dari pengguna\n",
        "\n",
        "nama = input(\"Masukkan nama Anda: \")\n",
        "nim = input(\"Masukan NIM Anda :\")\n",
        "kelas = input(\"Masukan kelas anda :\")\n",
        "status = input(\"masukan status anda :\")\n",
        "umur = input(\"Masukkan umur Anda: \")\n",
        "alamat = input(\"Masukkan alamat Anda: \")\n",
        "\n",
        "\n",
        "# Output biodata menggunakan fungsi format()\n",
        "print(\"=====================================================\")\n",
        "print(\"Biodata:\")\n",
        "print(\"=====================================================\")\n",
        "print(\"Nama: {}\".format(nama))\n",
        "print(\"Nim : {}\".format(nim))\n",
        "print(\"Kelas : {}\".format(kelas))\n",
        "print(\"status : {}\".format(status))\n",
        "print(\"Umur: {}\".format(umur))\n",
        "print(\"Alamat: {}\".format(alamat))"
      ],
      "metadata": {
        "colab": {
          "base_uri": "https://localhost:8080/"
        },
        "id": "sa0_PuFVsiis",
        "outputId": "03eec41c-a789-413a-b773-f50b30c93b69"
      },
      "execution_count": null,
      "outputs": [
        {
          "output_type": "stream",
          "name": "stdout",
          "text": [
            "Masukkan nama Anda: sholu nabila salam\n",
            "Masukan NIM Anda :20230040132\n",
            "Masukan kelas anda :ti23e\n",
            "masukan status anda :mahasiswa\n",
            "Masukkan umur Anda: 19 tahun\n",
            "Masukkan alamat Anda: parakan salak\n",
            "=====================================================\n",
            "Biodata:\n",
            "=====================================================\n",
            "Nama: sholu nabila salam\n",
            "Nim : 20230040132\n",
            "Kelas : ti23e\n",
            "status : mahasiswa\n",
            "Umur: 19 tahun\n",
            "Alamat: parakan salak\n"
          ]
        }
      ]
    },
    {
      "cell_type": "markdown",
      "source": [
        "#### 2. Jika terdapat kalimat UNIVERSITAS NUSA PUTRA SUKABUMI, buatlah kode program untuk menampilkan output:\n",
        "\n",
        "<ul>\n",
        "    <li>a. putra nusa</li>\n",
        "    <li>b. NIVERSITAS NSA PTRA SKABMI</li>\n",
        "    <li>c. SUKABUMI PUTRA NUSA UNIVERSITAS</li>\n",
        "    <li>d. UNPS</li>\n",
        "    <li>e. TAS SAPU BUMI</li>\n",
        "</ul>"
      ],
      "metadata": {
        "id": "QpIbzfDX03yO"
      }
    },
    {
      "cell_type": "code",
      "source": [
        "kalimat = \"UNIVERSITAS NUSA PUTRA SUKABUMI\"\n",
        "\n",
        "a = kalimat[16:22].lower() + kalimat[11:16].lower()\n",
        "b = kalimat[1:11] + kalimat[11:13] + kalimat[14:17] + kalimat[17] + kalimat[19:23] + kalimat[23] + kalimat[25:28] + kalimat[29:31]\n",
        "c = kalimat[23:31] + kalimat[16:22] + kalimat[11:17] + kalimat[0:12]\n",
        "d = kalimat[0] + kalimat[12] + kalimat[17] + kalimat[23]\n",
        "e = kalimat[8:12] + kalimat[14:16] + kalimat[17:19]+ kalimat[16:17] + kalimat[27:31]\n",
        "\n",
        "print(a)\n",
        "print(b)\n",
        "print(c)\n",
        "print(d)\n",
        "print(e)"
      ],
      "metadata": {
        "colab": {
          "base_uri": "https://localhost:8080/"
        },
        "id": "mNlxCNIx1BVd",
        "outputId": "743f5dfd-fa45-4d7a-98c2-ed03d274441c"
      },
      "execution_count": null,
      "outputs": [
        {
          "output_type": "stream",
          "name": "stdout",
          "text": [
            " putra nusa\n",
            "NIVERSITAS NSA PTRA SKABMI\n",
            "SUKABUMI PUTRA NUSA UNIVERSITAS \n",
            "UNPS\n",
            "TAS SAPU BUMI\n"
          ]
        }
      ]
    }
  ]
}